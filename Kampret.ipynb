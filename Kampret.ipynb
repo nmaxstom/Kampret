{
  "nbformat": 4,
  "nbformat_minor": 0,
  "metadata": {
    "colab": {
      "name": "Kampret.ipynb",
      "provenance": [],
      "authorship_tag": "ABX9TyN9Psam1hY2p+9kwzrx2nDk",
      "include_colab_link": true
    },
    "kernelspec": {
      "name": "python3",
      "display_name": "Python 3"
    },
    "language_info": {
      "name": "python"
    },
    "accelerator": "GPU"
  },
  "cells": [
    {
      "cell_type": "markdown",
      "metadata": {
        "id": "view-in-github",
        "colab_type": "text"
      },
      "source": [
        "<a href=\"https://colab.research.google.com/github/nmaxstom/Kampret/blob/main/Kampret.ipynb\" target=\"_parent\"><img src=\"https://colab.research.google.com/assets/colab-badge.svg\" alt=\"Open In Colab\"/></a>"
      ]
    },
    {
      "cell_type": "code",
      "source": [
        "#@title NEANGAN T4 NYA\n",
        "! nvidia-smi -L"
      ],
      "metadata": {
        "cellView": "form",
        "id": "0hUDnathzyZX"
      },
      "execution_count": null,
      "outputs": []
    },
    {
      "cell_type": "code",
      "metadata": {
        "id": "sWyvGtRi5hAI",
        "cellView": "form"
      },
      "source": [
        "#@title Jalankeun SSH Tmate\n",
        "!pkill -9 tmate\n",
        "!wget -nc https://github.com/tmate-io/tmate/releases/download/2.4.0/tmate-2.4.0-static-linux-i386.tar.xz &> /dev/null\n",
        "!tar --skip-old-files -xvf tmate-2.4.0-static-linux-i386.tar.xz &> /dev/null\n",
        "!rm -f nohup.out; bash -ic 'nohup ./tmate-2.4.0-static-linux-i386/tmate -S /tmp/tmate.sock new-session -d & disown -a' >/dev/null 2>&1\n",
        "!./tmate-2.4.0-static-linux-i386/tmate -S /tmp/tmate.sock wait tmate-ready\n",
        "!./tmate-2.4.0-static-linux-i386/tmate -S /tmp/tmate.sock display -p \"Connect with SSH address: #{tmate_ssh}\"\n",
        "!./tmate-2.4.0-static-linux-i386/tmate -S /tmp/tmate.sock display -p \"Connect with web: #{tmate_web}\"\n",
        "#!ps auxef | cat\n",
        "#!cat nohup.out"
      ],
      "execution_count": null,
      "outputs": []
    },
    {
      "cell_type": "code",
      "source": [
        "#@title MOLOR SIAH\n",
        "!sleep 9999999999"
      ],
      "metadata": {
        "cellView": "form",
        "id": "-lCCRzMh7xFj"
      },
      "execution_count": null,
      "outputs": []
    }
  ]
}